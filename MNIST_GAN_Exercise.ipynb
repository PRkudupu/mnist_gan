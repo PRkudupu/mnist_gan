{
 "cells": [
  {
   "cell_type": "markdown",
   "metadata": {},
   "source": [
    "# Generative Adversarial Network\n",
    "\n",
    "In this notebook, we'll be building a generative adversarial network (GAN) trained on the MNIST dataset. From this, we'll be able to generate new handwritten digits!\n",
    "\n",
    "GANs were [first reported on](https://arxiv.org/abs/1406.2661) in 2014 from Ian Goodfellow and others in Yoshua Bengio's lab. Since then, GANs have exploded in popularity. Here are a few examples to check out:\n",
    "\n",
    "* [Pix2Pix](https://affinelayer.com/pixsrv/) \n",
    "* [CycleGAN & Pix2Pix in PyTorch, Jun-Yan Zhu](https://github.com/junyanz/pytorch-CycleGAN-and-pix2pix)\n",
    "* [A list of generative models](https://github.com/wiseodd/generative-models)\n",
    "\n",
    "The idea behind GANs is that you have two networks, a generator $G$ and a discriminator $D$, competing against each other. The generator makes \"fake\" data to pass to the discriminator. The discriminator also sees real training data and predicts if the data it's received is real or fake. \n",
    "> * The generator is trained to fool the discriminator, it wants to output data that looks _as close as possible_ to real, training data. \n",
    "* The discriminator is a classifier that is trained to figure out which data is real and which is fake. \n",
    "\n",
    "What ends up happening is that the generator learns to make data that is indistinguishable from real data to the discriminator.\n",
    "\n",
    "<img src='assets/gan_pipeline.png' width=70% />\n",
    "\n",
    "The general structure of a GAN is shown in the diagram above, using MNIST images as data. The latent sample is a random vector that the generator uses to construct its fake images. This is often called a **latent vector** and that vector space is called **latent space**. As the generator trains, it figures out how to map latent vectors to recognizable images that can fool the discriminator.\n",
    "\n",
    "If you're interested in generating only new images, you can throw out the discriminator after training. In this notebook, I'll show you how to define and train these adversarial networks in PyTorch and generate new images!"
   ]
  },
  {
   "cell_type": "code",
   "execution_count": 61,
   "metadata": {},
   "outputs": [],
   "source": [
    "%matplotlib inline\n",
    "\n",
    "import numpy as np\n",
    "import torch\n",
    "import matplotlib.pyplot as plt"
   ]
  },
  {
   "cell_type": "code",
   "execution_count": 62,
   "metadata": {},
   "outputs": [],
   "source": [
    "from torchvision import datasets\n",
    "import torchvision.transforms as transforms\n",
    "\n",
    "# number of subprocesses to use for data loading\n",
    "num_workers = 0\n",
    "# how many samples per batch to load\n",
    "batch_size = 64\n",
    "\n",
    "# convert data to torch.FloatTensor\n",
    "transform = transforms.ToTensor()\n",
    "\n",
    "# get the training datasets\n",
    "train_data = datasets.MNIST(root='data', train=True,\n",
    "                                   download=True, transform=transform)\n",
    "\n",
    "# prepare data loader\n",
    "train_loader = torch.utils.data.DataLoader(train_data, batch_size=batch_size,\n",
    "                                           num_workers=num_workers)"
   ]
  },
  {
   "cell_type": "markdown",
   "metadata": {},
   "source": [
    "### Visualize the data"
   ]
  },
  {
   "cell_type": "code",
   "execution_count": 63,
   "metadata": {},
   "outputs": [
    {
     "data": {
      "text/plain": [
       "<matplotlib.image.AxesImage at 0x27401102dd8>"
      ]
     },
     "execution_count": 63,
     "metadata": {},
     "output_type": "execute_result"
    },
    {
     "data": {
      "image/png": "[encoded data removed]",
      "text/plain": [
       "<Figure size 216x216 with 1 Axes>"
      ]
     },
     "metadata": {
      "needs_background": "light"
     },
     "output_type": "display_data"
    }
   ],
   "source": [
    "# obtain one batch of training images\n",
    "dataiter = iter(train_loader)\n",
    "images, labels = dataiter.next()\n",
    "images = images.numpy()\n",
    "\n",
    "# get one image from the batch\n",
    "img = np.squeeze(images[0])\n",
    "\n",
    "fig = plt.figure(figsize = (3,3)) \n",
    "ax = fig.add_subplot(111)\n",
    "ax.imshow(img, cmap='gray')"
   ]
  },
  {
   "cell_type": "markdown",
   "metadata": {},
   "source": [
    "---\n",
    "# Define the Model\n",
    "\n",
    "A GAN is comprised of two adversarial networks, a discriminator and a generator."
   ]
  },
  {
   "cell_type": "markdown",
   "metadata": {},
   "source": [
    "## Discriminator\n",
    "\n",
    "The discriminator network is going to be a pretty typical linear classifier. To make this network a universal function approximator, we'll need at least one hidden layer, and these hidden layers should have one key attribute:\n",
    "> All hidden layers will have a [Leaky ReLu](https://pytorch.org/docs/stable/nn.html#torch.nn.LeakyReLU) activation function applied to their outputs.\n",
    "\n",
    "<img src='assets/gan_network.png' width=70% />\n",
    "\n",
    "#### Leaky ReLu\n",
    "\n",
    "We should use a leaky ReLU to allow gradients to flow backwards through the layer unimpeded. A leaky ReLU is like a normal ReLU, except that there is a small non-zero output for negative input values.\n",
    "\n",
    "<img src='assets/leaky_relu.png' width=40% />\n",
    "\n",
    "#### Sigmoid Output\n",
    "\n",
    "We'll also take the approach of using a more numerically stable loss function on the outputs. Recall that we want the discriminator to output a value 0-1 indicating whether an image is _real or fake_. \n",
    "> We will ultimately use [BCEWithLogitsLoss](https://pytorch.org/docs/stable/nn.html#bcewithlogitsloss), which combines a `sigmoid` activation function **and** and binary cross entropy loss in one function. \n",
    "\n",
    "So, our final output layer should not have any activation function applied to it."
   ]
  },
  {
   "cell_type": "code",
   "execution_count": 64,
   "metadata": {},
   "outputs": [],
   "source": [
    "import torch.nn as nn\n",
    "import torch.nn.functional as F\n",
    "\n",
    "class Discriminator(nn.Module):\n",
    "\n",
    "    def __init__(self, input_size, hidden_dim, output_size):\n",
    "        super(Discriminator, self).__init__()\n",
    "        \n",
    "        # define all layers\n",
    "        # takes vector of specified size and the outputs hidden_dim times four outputs.\n",
    "        self.fc1 = nn.Linear(input_size, hidden_dim*4)\n",
    "        # reduces by a factor of 2\n",
    "        self.fc2 = nn.Linear(hidden_dim*4, hidden_dim*2)\n",
    "        # produces hidden dim no of outputs\n",
    "        self.fc3 = nn.Linear(hidden_dim*2, hidden_dim)\n",
    "        \n",
    "        # final fully connected layer\n",
    "        # takes the hidden dim outputs and produces an output of specified size\n",
    "        # output_size indicates whether an image is fake or real\n",
    "        self.fc4 = nn.Linear(hidden_dim, output_size)\n",
    "        \n",
    "        #dropout layer\n",
    "        # its a good practise to place a drop out in between linear layers\n",
    "        self.dropout = nn.Dropout(0.3)\n",
    "       \n",
    "        \n",
    "        \n",
    "    def forward(self, x):\n",
    "        # flatten image\n",
    "        # This step we make sure that it is flattened to a vector shape\n",
    "        # view step ensures that the \n",
    "        x =x.view(-1, 28*28)\n",
    "        # pass x through all layers\n",
    "        # apply leaky relu activation to all hidden layers\n",
    "        x = F.leaky_relu(self.fc1(x),0.2)\n",
    "        x = self.dropout(x)\n",
    "        x = F.leaky_relu(self.fc2(x),0.2)\n",
    "        x = self.dropout(x)\n",
    "        x = F.leaky_relu(self.fc3(x),0.2)\n",
    "        x = self.dropout(x)\n",
    "        \n",
    "        out = self.fc4(x)\n",
    "        return out\n"
   ]
  },
  {
   "cell_type": "markdown",
   "metadata": {},
   "source": [
    "## Generator\n",
    "\n",
    "The generator network will be almost exactly the same as the discriminator network, except that we're applying a [tanh activation function](https://pytorch.org/docs/stable/nn.html#tanh) to our output layer.\n",
    "\n",
    "#### tanh Output\n",
    "The generator has been found to perform the best with $tanh$ for the generator output, which scales the output to be between -1 and 1, instead of 0 and 1. \n",
    "\n",
    "<img src='assets/tanh_fn.png' width=40% />\n",
    "\n",
    "Recall that we also want these outputs to be comparable to the *real* input pixel values, which are read in as normalized values between 0 and 1. \n",
    "> So, we'll also have to **scale our real input images to have pixel values between -1 and 1** when we train the discriminator. \n",
    "\n",
    "I'll do this in the training loop, later on."
   ]
  },
  {
   "cell_type": "code",
   "execution_count": 65,
   "metadata": {},
   "outputs": [],
   "source": [
    "class Generator(nn.Module):\n",
    "\n",
    "    def __init__(self, input_size, hidden_dim, output_size):\n",
    "        super(Generator, self).__init__()\n",
    "        \n",
    "        # It would take a vector z and produce an image as output\n",
    "        # takes vector of specified size and the outputs hidden_dim times four outputs.\n",
    "        # The differnce here is that output is getting larger \n",
    "        self.fc1 = nn.Linear(input_size, hidden_dim)\n",
    "        # reduces by a factor of 2\n",
    "        self.fc2 = nn.Linear(hidden_dim, hidden_dim*2)\n",
    "        # produces hidden dim no of outputs\n",
    "        self.fc3 = nn.Linear(hidden_dim*2, hidden_dim*4)\n",
    "        \n",
    "        # final fully connected layer\n",
    "        # takes the hidden dim outputs and produces an output of specified size\n",
    "        # output_size iwould be 784 values\n",
    "        self.fc4 = nn.Linear(hidden_dim*4, output_size)\n",
    "        \n",
    "        #dropout layer\n",
    "        # its a good practise to place a drop out in between linear layers\n",
    "        self.dropout = nn.Dropout(0.3)\n",
    "       \n",
    "    def forward(self, x):\n",
    "        # no flattening is needed here\n",
    "        # pass x through all layers\n",
    "        # apply leaky relu activation to all hidden layers\n",
    "        # leaky relu is the way of reducing a size of any negative outputs by multiplying them by some negative slope\n",
    "        x = F.leaky_relu(self.fc1(x),0.2)\n",
    "        # dropout\n",
    "        x = self.dropout(x)\n",
    "        x = F.leaky_relu(self.fc2(x),0.2)\n",
    "        x = self.dropout(x)\n",
    "        x = F.leaky_relu(self.fc3(x),0.2)\n",
    "        x = self.dropout(x)\n",
    "        # no activation function. This would give the size of the output\n",
    "        # tanh would scale the outputs of this last layer bweteen -1 and 1\n",
    "        out = F.tanh(self.fc4(x))\n",
    "        return out"
   ]
  },
  {
   "cell_type": "markdown",
   "metadata": {},
   "source": [
    "## Model hyperparameters"
   ]
  },
  {
   "cell_type": "code",
   "execution_count": 66,
   "metadata": {},
   "outputs": [],
   "source": [
    "# Discriminator hyperparams\n",
    "\n",
    "# Size of input image to discriminator (28*28)\n",
    "input_size = 784\n",
    "# Size of discriminator output (real or fake)\n",
    "d_output_size = 1\n",
    "# Size of *last* hidden layer in the discriminator\n",
    "# This is the hidden dim. As we go through the hidden dim layer,input would go from 784 to 128 (hidden diom times 4)\n",
    "# then 64 and then finally 32\n",
    "d_hidden_size = 32\n",
    "\n",
    "# Generator hyperparams\n",
    "\n",
    "# Size of latent vector to give to generator\n",
    "# we can choose any size here.This would be transformed to 32 --> 64 --> 128\n",
    "# 128 would be converted to the putput size of 784 values\n",
    "z_size = 100\n",
    "# Size of discriminator output (generated image)\n",
    "g_output_size = 784\n",
    "# Size of *first* hidden layer in the generator\n",
    "g_hidden_size = 32"
   ]
  },
  {
   "cell_type": "markdown",
   "metadata": {},
   "source": [
    "## Build complete network\n",
    "\n",
    "Now we're instantiating the discriminator and generator from the classes defined above. Make sure you've passed in the correct input arguments."
   ]
  },
  {
   "cell_type": "code",
   "execution_count": 67,
   "metadata": {},
   "outputs": [
    {
     "name": "stdout",
     "output_type": "stream",
     "text": [
      "Discriminator(\n",
      "  (fc1): Linear(in_features=784, out_features=128, bias=True)\n",
      "  (fc2): Linear(in_features=128, out_features=64, bias=True)\n",
      "  (fc3): Linear(in_features=64, out_features=32, bias=True)\n",
      "  (fc4): Linear(in_features=32, out_features=1, bias=True)\n",
      "  (dropout): Dropout(p=0.3)\n",
      ")\n",
      "\n",
      "Generator(\n",
      "  (fc1): Linear(in_features=100, out_features=32, bias=True)\n",
      "  (fc2): Linear(in_features=32, out_features=64, bias=True)\n",
      "  (fc3): Linear(in_features=64, out_features=128, bias=True)\n",
      "  (fc4): Linear(in_features=128, out_features=784, bias=True)\n",
      "  (dropout): Dropout(p=0.3)\n",
      ")\n"
     ]
    }
   ],
   "source": [
    "# instantiate discriminator and generator\n",
    "D = Discriminator(input_size, d_hidden_size, d_output_size)\n",
    "G = Generator(z_size, g_hidden_size, g_output_size)\n",
    "\n",
    "# check that they are as you expect\n",
    "print(D)\n",
    "print()\n",
    "print(G)"
   ]
  },
  {
   "cell_type": "markdown",
   "metadata": {},
   "source": [
    "---\n",
    "## Discriminator and Generator Losses\n",
    "\n",
    "Now we need to calculate the losses. \n",
    "\n",
    "### Discriminator Losses\n",
    "\n",
    "> * For the discriminator, the total loss is the sum of the losses for real and fake images, `d_loss = d_real_loss + d_fake_loss`. \n",
    "* Remember that we want the discriminator to output 1 for real images and 0 for fake images, so we need to set up the losses to reflect that.\n",
    "\n",
    "<img src='assets/gan_pipeline.png' width=70% />\n",
    "\n",
    "The losses will by binary cross entropy loss with logits, which we can get with [BCEWithLogitsLoss](https://pytorch.org/docs/stable/nn.html#bcewithlogitsloss). This combines a `sigmoid` activation function **and** and binary cross entropy loss in one function.\n",
    "\n",
    "For the real images, we want `D(real_images) = 1`. That is, we want the discriminator to classify the the real images with a label = 1, indicating that these are real. To help the discriminator generalize better, the labels are **reduced a bit from 1.0 to 0.9**. For this, we'll use the parameter `smooth`; if True, then we should smooth our labels. In PyTorch, this looks like `labels = torch.ones(size) * 0.9`\n",
    "\n",
    "The discriminator loss for the fake data is similar. We want `D(fake_images) = 0`, where the fake images are the _generator output_, `fake_images = G(z)`. \n",
    "\n",
    "### Generator Loss\n",
    "\n",
    "The generator loss will look similar only with flipped labels. The generator's goal is to get `D(fake_images) = 1`. In this case, the labels are **flipped** to represent that the generator is trying to fool the discriminator into thinking that the images it generates (fakes) are real!"
   ]
  },
  {
   "cell_type": "code",
   "execution_count": 68,
   "metadata": {},
   "outputs": [],
   "source": [
    "# Calculate losses\n",
    "# when we train there would be one output value for each input image in a batch\n",
    "# We recieve it as D_out\n",
    "def real_loss(D_out, smooth=False):\n",
    "    batch_size =D_out.size(0)\n",
    "    # compare logits to real labels\n",
    "    # smooth labels if smooth=True\n",
    "    # create real labels. There are 2 cases smooth=True/False\n",
    "    # smooth = true\n",
    "    if smooth:\n",
    "        labels= torch.ones(batch_size)* 0.9 \n",
    "    else:\n",
    "        labels= torch.ones(batch_size) # real labels\n",
    "    # define loss criterion\n",
    "    criterion = nn.BCEWithLogitsLoss()\n",
    "    # calculate loss\n",
    "    loss = criterion(D_out.squeeze(),labels)\n",
    "    return loss # returns calculated binary cross entropy loss\n",
    "\n",
    "def fake_loss(D_out):\n",
    "    # compare logits to fake labels\n",
    "    # similar to real_loss . In this we do not have a smooth parameter\n",
    "    batch_size = D_out.size(0)\n",
    "    # here we are using torch. zeros instead of torch.ones\n",
    "    labels =torch.zeros(batch_size) # fake labels\n",
    "    criterion = nn.BCEWithLogitsLoss()\n",
    "    # calculate loss\n",
    "    loss = criterion(D_out.squeeze(),labels)\n",
    "    return loss"
   ]
  },
  {
   "cell_type": "markdown",
   "metadata": {},
   "source": [
    "## Optimizers\n",
    "\n",
    "We want to update the generator and discriminator variables separately. So, we'll define two separate Adam optimizers."
   ]
  },
  {
   "cell_type": "code",
   "execution_count": 69,
   "metadata": {
    "scrolled": true
   },
   "outputs": [],
   "source": [
    "import torch.optim as optim\n",
    "\n",
    "# learning rate for optimizers\n",
    "# we would be using adam optimizers\n",
    "lr = 0.002\n",
    "\n",
    "# Create optimizers for the discriminator and generator\n",
    "d_optimizer = optim.Adam(D.parameters(),lr)\n",
    "g_optimizer = optim.Adam(G.parameters(),lr)"
   ]
  },
  {
   "cell_type": "markdown",
   "metadata": {},
   "source": [
    "---\n",
    "## Training\n",
    "\n",
    "Training will involve alternating between training the discriminator and the generator. We'll use our functions `real_loss` and `fake_loss` to help us calculate the discriminator losses in all of the following cases.\n",
    "\n",
    "### Discriminator training\n",
    "1. Compute the discriminator loss on real, training images        \n",
    "2. Generate fake images\n",
    "3. Compute the discriminator loss on fake, generated images     \n",
    "4. Add up real and fake loss\n",
    "5. Perform backpropagation + an optimization step to update the discriminator's weights\n",
    "\n",
    "### Generator training\n",
    "1. Generate fake images\n",
    "2. Compute the discriminator loss on fake images, using **flipped** labels!\n",
    "3. Perform backpropagation + an optimization step to update the generator's weights\n",
    "\n",
    "#### Saving Samples\n",
    "\n",
    "As we train, we'll also print out some loss statistics and save some generated \"fake\" samples."
   ]
  },
  {
   "cell_type": "code",
   "execution_count": 70,
   "metadata": {
    "scrolled": true
   },
   "outputs": [
    {
     "name": "stderr",
     "output_type": "stream",
     "text": [
      "C:\\Users\\Prath\\Anaconda3\\lib\\site-packages\\torch\\nn\\functional.py:1320: UserWarning: nn.functional.tanh is deprecated. Use torch.tanh instead.\n",
      "  warnings.warn(\"nn.functional.tanh is deprecated. Use torch.tanh instead.\")\n"
     ]
    },
    {
     "name": "stdout",
     "output_type": "stream",
     "text": [
      "Epoch [    1/   40] | d_loss: 1.3417 | g_loss: 0.7927\n",
      "Epoch [    1/   40] | d_loss: 1302.7061 | g_loss: 75.3126\n",
      "Epoch [    1/   40] | d_loss: 36608.2852 | g_loss: 0.0000\n",
      "Epoch [    2/   40] | d_loss: 11939.5801 | g_loss: 0.0000\n",
      "Epoch [    2/   40] | d_loss: 59817.4961 | g_loss: 2421.6641\n",
      "Epoch [    2/   40] | d_loss: 80062.2812 | g_loss: 85.8248\n",
      "Epoch [    3/   40] | d_loss: 173906.1562 | g_loss: 24240.3281\n",
      "Epoch [    3/   40] | d_loss: 851991.4375 | g_loss: 0.0000\n",
      "Epoch [    3/   40] | d_loss: 406275.5938 | g_loss: 12693.5889\n",
      "Epoch [    4/   40] | d_loss: 1504783.5000 | g_loss: 43864.7852\n",
      "Epoch [    4/   40] | d_loss: 1194918.0000 | g_loss: 61209.9883\n",
      "Epoch [    4/   40] | d_loss: 674354.7500 | g_loss: 125647.5156\n",
      "Epoch [    5/   40] | d_loss: 986662.3750 | g_loss: 97773.4297\n",
      "Epoch [    5/   40] | d_loss: 896918.1250 | g_loss: 567588.3750\n",
      "Epoch [    5/   40] | d_loss: 1258117.5000 | g_loss: 107430.1562\n",
      "Epoch [    6/   40] | d_loss: 964304.6250 | g_loss: 563761.8125\n",
      "Epoch [    6/   40] | d_loss: 965812.8750 | g_loss: 677139.7500\n",
      "Epoch [    6/   40] | d_loss: 1510817.2500 | g_loss: 361187.8750\n",
      "Epoch [    7/   40] | d_loss: 1212900.2500 | g_loss: 295003.0625\n",
      "Epoch [    7/   40] | d_loss: 4670173.0000 | g_loss: 340333.7812\n",
      "Epoch [    7/   40] | d_loss: 8753138.0000 | g_loss: 400726.8125\n",
      "Epoch [    8/   40] | d_loss: 4430200.5000 | g_loss: 502236.3438\n",
      "Epoch [    8/   40] | d_loss: 4553054.0000 | g_loss: 747190.1875\n",
      "Epoch [    8/   40] | d_loss: 7599258.0000 | g_loss: 593622.1250\n",
      "Epoch [    9/   40] | d_loss: 9141860.0000 | g_loss: 1259213.0000\n",
      "Epoch [    9/   40] | d_loss: 4218149.0000 | g_loss: 885552.5000\n",
      "Epoch [    9/   40] | d_loss: 4155575.7500 | g_loss: 1240075.6250\n",
      "Epoch [   10/   40] | d_loss: 3632473.0000 | g_loss: 1112483.3750\n",
      "Epoch [   10/   40] | d_loss: 5398686.0000 | g_loss: 1282490.7500\n",
      "Epoch [   10/   40] | d_loss: 4894040.0000 | g_loss: 794769.7500\n",
      "Epoch [   11/   40] | d_loss: 6000923.0000 | g_loss: 955247.0000\n",
      "Epoch [   11/   40] | d_loss: 6554290.0000 | g_loss: 1696350.8750\n",
      "Epoch [   11/   40] | d_loss: 4861237.5000 | g_loss: 1418468.3750\n",
      "Epoch [   12/   40] | d_loss: 6276397.0000 | g_loss: 1028167.8125\n",
      "Epoch [   12/   40] | d_loss: 4937842.5000 | g_loss: 1131501.1250\n",
      "Epoch [   12/   40] | d_loss: 2869611.0000 | g_loss: 1921325.2500\n",
      "Epoch [   13/   40] | d_loss: 4995918.5000 | g_loss: 1004044.3125\n",
      "Epoch [   13/   40] | d_loss: 6588894.0000 | g_loss: 471266.0000\n",
      "Epoch [   13/   40] | d_loss: 6177472.0000 | g_loss: 1022322.3750\n",
      "Epoch [   14/   40] | d_loss: 4419656.5000 | g_loss: 2524112.7500\n",
      "Epoch [   14/   40] | d_loss: 10081264.0000 | g_loss: 1247338.0000\n",
      "Epoch [   14/   40] | d_loss: 9588523.0000 | g_loss: 1162247.0000\n",
      "Epoch [   15/   40] | d_loss: 9400101.0000 | g_loss: 3104367.2500\n",
      "Epoch [   15/   40] | d_loss: 6561432.0000 | g_loss: 4404634.0000\n",
      "Epoch [   15/   40] | d_loss: 6965530.0000 | g_loss: 1447256.0000\n",
      "Epoch [   16/   40] | d_loss: 7673057.0000 | g_loss: 2429228.7500\n",
      "Epoch [   16/   40] | d_loss: 8836833.0000 | g_loss: 1143356.2500\n",
      "Epoch [   16/   40] | d_loss: 5890629.0000 | g_loss: 1272048.8750\n",
      "Epoch [   17/   40] | d_loss: 5931337.0000 | g_loss: 2848633.5000\n",
      "Epoch [   17/   40] | d_loss: 4668649.0000 | g_loss: 2978537.0000\n",
      "Epoch [   17/   40] | d_loss: 7041313.5000 | g_loss: 3777669.2500\n",
      "Epoch [   18/   40] | d_loss: 5656493.0000 | g_loss: 3926701.7500\n",
      "Epoch [   18/   40] | d_loss: 7441628.0000 | g_loss: 3068224.5000\n",
      "Epoch [   18/   40] | d_loss: 12381846.0000 | g_loss: 1816341.3750\n",
      "Epoch [   19/   40] | d_loss: 7274373.0000 | g_loss: 2581064.0000\n",
      "Epoch [   19/   40] | d_loss: 8499864.0000 | g_loss: 1984917.0000\n",
      "Epoch [   19/   40] | d_loss: 9927432.0000 | g_loss: 4363347.0000\n",
      "Epoch [   20/   40] | d_loss: 7266970.0000 | g_loss: 4895720.5000\n",
      "Epoch [   20/   40] | d_loss: 51161808.0000 | g_loss: 2447966.2500\n",
      "Epoch [   20/   40] | d_loss: 15171748.0000 | g_loss: 8244048.0000\n",
      "Epoch [   21/   40] | d_loss: 33936644.0000 | g_loss: 4247442.5000\n",
      "Epoch [   21/   40] | d_loss: 26623946.0000 | g_loss: 4986004.0000\n",
      "Epoch [   21/   40] | d_loss: 25983018.0000 | g_loss: 5036905.0000\n",
      "Epoch [   22/   40] | d_loss: 45317040.0000 | g_loss: 1714722.3750\n",
      "Epoch [   22/   40] | d_loss: 32480024.0000 | g_loss: 1670186.6250\n",
      "Epoch [   22/   40] | d_loss: 38960812.0000 | g_loss: 5481839.0000\n",
      "Epoch [   23/   40] | d_loss: 41743216.0000 | g_loss: 4368035.0000\n",
      "Epoch [   23/   40] | d_loss: 67987160.0000 | g_loss: 5780997.0000\n",
      "Epoch [   23/   40] | d_loss: 40874632.0000 | g_loss: 3020497.2500\n",
      "Epoch [   24/   40] | d_loss: 76471376.0000 | g_loss: 1469691.8750\n",
      "Epoch [   24/   40] | d_loss: 198763728.0000 | g_loss: 10585311.0000\n",
      "Epoch [   24/   40] | d_loss: 168512544.0000 | g_loss: 595968.0000\n",
      "Epoch [   25/   40] | d_loss: 163966016.0000 | g_loss: 7363442.0000\n",
      "Epoch [   25/   40] | d_loss: 144853792.0000 | g_loss: 80866840.0000\n",
      "Epoch [   25/   40] | d_loss: 170242880.0000 | g_loss: 13083048.0000\n",
      "Epoch [   26/   40] | d_loss: 154010928.0000 | g_loss: 27939772.0000\n",
      "Epoch [   26/   40] | d_loss: 142896896.0000 | g_loss: 54310772.0000\n",
      "Epoch [   26/   40] | d_loss: 125068080.0000 | g_loss: 21790066.0000\n",
      "Epoch [   27/   40] | d_loss: 104792960.0000 | g_loss: 28122254.0000\n",
      "Epoch [   27/   40] | d_loss: 98056416.0000 | g_loss: 45907888.0000\n",
      "Epoch [   27/   40] | d_loss: 54629000.0000 | g_loss: 51808692.0000\n",
      "Epoch [   28/   40] | d_loss: 76559552.0000 | g_loss: 51129912.0000\n",
      "Epoch [   28/   40] | d_loss: 91934728.0000 | g_loss: 46698380.0000\n",
      "Epoch [   28/   40] | d_loss: 78753208.0000 | g_loss: 59474536.0000\n",
      "Epoch [   29/   40] | d_loss: 77545880.0000 | g_loss: 25620360.0000\n",
      "Epoch [   29/   40] | d_loss: 53913636.0000 | g_loss: 39864740.0000\n",
      "Epoch [   29/   40] | d_loss: 80206968.0000 | g_loss: 36141316.0000\n",
      "Epoch [   30/   40] | d_loss: 93232624.0000 | g_loss: 29090652.0000\n",
      "Epoch [   30/   40] | d_loss: 101849136.0000 | g_loss: 29033308.0000\n",
      "Epoch [   30/   40] | d_loss: 71546560.0000 | g_loss: 20437792.0000\n",
      "Epoch [   31/   40] | d_loss: 113764400.0000 | g_loss: 28102216.0000\n",
      "Epoch [   31/   40] | d_loss: 219999296.0000 | g_loss: 23489368.0000\n",
      "Epoch [   31/   40] | d_loss: 106079336.0000 | g_loss: 11678570.0000\n",
      "Epoch [   32/   40] | d_loss: 92506584.0000 | g_loss: 9962606.0000\n",
      "Epoch [   32/   40] | d_loss: 106122208.0000 | g_loss: 37648452.0000\n",
      "Epoch [   32/   40] | d_loss: 105536984.0000 | g_loss: 20589988.0000\n",
      "Epoch [   33/   40] | d_loss: 102124272.0000 | g_loss: 26555476.0000\n",
      "Epoch [   33/   40] | d_loss: 80240208.0000 | g_loss: 37308148.0000\n",
      "Epoch [   33/   40] | d_loss: 65090004.0000 | g_loss: 21763526.0000\n",
      "Epoch [   34/   40] | d_loss: 75067416.0000 | g_loss: 16338293.0000\n",
      "Epoch [   34/   40] | d_loss: 49823844.0000 | g_loss: 27452212.0000\n",
      "Epoch [   34/   40] | d_loss: 65989268.0000 | g_loss: 12559696.0000\n",
      "Epoch [   35/   40] | d_loss: 65921792.0000 | g_loss: 14877514.0000\n",
      "Epoch [   35/   40] | d_loss: 49088608.0000 | g_loss: 18564534.0000\n",
      "Epoch [   35/   40] | d_loss: 50935680.0000 | g_loss: 15383783.0000\n",
      "Epoch [   36/   40] | d_loss: 56521536.0000 | g_loss: 13696499.0000\n",
      "Epoch [   36/   40] | d_loss: 56208648.0000 | g_loss: 19165528.0000\n",
      "Epoch [   36/   40] | d_loss: 51778180.0000 | g_loss: 18011828.0000\n",
      "Epoch [   37/   40] | d_loss: 44215332.0000 | g_loss: 23580224.0000\n",
      "Epoch [   37/   40] | d_loss: 54732932.0000 | g_loss: 14481457.0000\n",
      "Epoch [   37/   40] | d_loss: 45152672.0000 | g_loss: 20722228.0000\n",
      "Epoch [   38/   40] | d_loss: 50841776.0000 | g_loss: 15200418.0000\n",
      "Epoch [   38/   40] | d_loss: 51061304.0000 | g_loss: 19192936.0000\n",
      "Epoch [   38/   40] | d_loss: 58379968.0000 | g_loss: 16465778.0000\n",
      "Epoch [   39/   40] | d_loss: 63174436.0000 | g_loss: 20629316.0000\n",
      "Epoch [   39/   40] | d_loss: 49230568.0000 | g_loss: 11882260.0000\n",
      "Epoch [   39/   40] | d_loss: 64053840.0000 | g_loss: 17013350.0000\n",
      "Epoch [   40/   40] | d_loss: 43825248.0000 | g_loss: 17881696.0000\n",
      "Epoch [   40/   40] | d_loss: 41962044.0000 | g_loss: 21662930.0000\n",
      "Epoch [   40/   40] | d_loss: 58325324.0000 | g_loss: 6788115.0000\n"
     ]
    }
   ],
   "source": [
    "import pickle as pkl\n",
    "\n",
    "# training hyperparams\n",
    "num_epochs = 40\n",
    "\n",
    "# keep track of loss and generated, \"fake\" samples\n",
    "samples = []\n",
    "losses = []\n",
    "\n",
    "print_every = 400\n",
    "\n",
    "# Get some fixed data for sampling. These are images that are held\n",
    "# constant throughout training, and allow us to inspect the model's performance\n",
    "sample_size=16\n",
    "fixed_z = np.random.uniform(-1, 1, size=(sample_size, z_size))\n",
    "fixed_z = torch.from_numpy(fixed_z).float()\n",
    "\n",
    "# train the network\n",
    "D.train()\n",
    "G.train()\n",
    "for epoch in range(num_epochs):\n",
    "    \n",
    "    for batch_i, (real_images, _) in enumerate(train_loader):\n",
    "                \n",
    "        batch_size = real_images.size(0)\n",
    "        \n",
    "        ## Important rescaling step .This is important because our generator outputs have been \n",
    "        ## scaled to be values between negative one and one with a tanh function\n",
    "        real_images = real_images*2 - 1  # rescale input images from [0,1) to [-1, 1)\n",
    "        \n",
    "        # ============================================\n",
    "        #            TRAIN THE DISCRIMINATOR\n",
    "        # *  would be trained on real and fake images\n",
    "        # *  would calculate 2 losses at each of these steps \n",
    "        # *  and sum them to get a total loss and perform back propogation.\n",
    "        # ============================================\n",
    "                \n",
    "        # 1. Train with real images\n",
    "\n",
    "        # Compute the discriminator losses on real images\n",
    "        # use smoothed labels\n",
    "        D_real = D(real_images)\n",
    "        d_real_loss = real_loss(D_real, smooth=True)\n",
    "        # 2. Train with fake images\n",
    "        \n",
    "        # Generate fake images\n",
    "        z = np.random.uniform(-1, 1, size=(batch_size, z_size))\n",
    "        z = torch.from_numpy(z).float()\n",
    "        fake_images = G(z)\n",
    "        \n",
    "        # Compute the discriminator losses on fake images        \n",
    "        D_fake = D(fake_images)\n",
    "        d_fake_loss = fake_loss(D_fake)\n",
    "        \n",
    "        # add up real and fake losses and perform backprop\n",
    "        d_loss = d_real_loss + d_fake_loss\n",
    "        d_loss.backward()\n",
    "        d_optimizer.step()\n",
    "        \n",
    "        \n",
    "        # =========================================\n",
    "        #            TRAIN THE GENERATOR\n",
    "        # =========================================\n",
    "        g_optimizer.zero_grad()\n",
    "            \n",
    "        # 1. Train with fake images and flipped labels\n",
    "        \n",
    "        # Generate fake images\n",
    "        z = np.random.uniform(-1, 1, size=(batch_size, z_size))\n",
    "        z = torch.from_numpy(z).float()\n",
    "        fake_images = G(z)\n",
    "        \n",
    "        # Compute the discriminator losses on fake images \n",
    "        # using flipped labels!\n",
    "        D_fake = D(fake_images)\n",
    "        g_loss = real_loss(D_fake) # use real loss to flip labels\n",
    "        \n",
    "        # perform backprop\n",
    "        g_loss.backward()\n",
    "        g_optimizer.step()\n",
    "\n",
    "        \n",
    "\n",
    "        # Print some loss stats\n",
    "        if batch_i % print_every == 0:\n",
    "            # print discriminator and generator loss\n",
    "            print('Epoch [{:5d}/{:5d}] | d_loss: {:6.4f} | g_loss: {:6.4f}'.format(\n",
    "                    epoch+1, num_epochs, d_loss.item(), g_loss.item()))\n",
    "\n",
    "    \n",
    "    ## AFTER EACH EPOCH##\n",
    "    # append discriminator loss and generator loss\n",
    "    losses.append((d_loss.item(), g_loss.item()))\n",
    "    \n",
    "    # generate and save sample, fake images\n",
    "    G.eval() # eval mode for generating samples\n",
    "    samples_z = G(fixed_z)\n",
    "    samples.append(samples_z)\n",
    "    G.train() # back to train mode\n",
    "\n",
    "\n",
    "# Save training generator samples\n",
    "with open('train_samples.pkl', 'wb') as f:\n",
    "    pkl.dump(samples, f)"
   ]
  },
  {
   "cell_type": "markdown",
   "metadata": {},
   "source": [
    "## Training loss\n",
    "\n",
    "Here we'll plot the training losses for the generator and discriminator, recorded after each epoch."
   ]
  },
  {
   "cell_type": "code",
   "execution_count": 71,
   "metadata": {},
   "outputs": [
    {
     "data": {
      "text/plain": [
       "<matplotlib.legend.Legend at 0x27402338978>"
      ]
     },
     "execution_count": 71,
     "metadata": {},
     "output_type": "execute_result"
    },
    {
     "data": {
      "image/png": "[encoded data removed]",
      "text/plain": [
       "<Figure size 432x288 with 1 Axes>"
      ]
     },
     "metadata": {
      "needs_background": "light"
     },
     "output_type": "display_data"
    }
   ],
   "source": [
    "fig, ax = plt.subplots()\n",
    "losses = np.array(losses)\n",
    "plt.plot(losses.T[0], label='Discriminator')\n",
    "plt.plot(losses.T[1], label='Generator')\n",
    "plt.title(\"Training Losses\")\n",
    "plt.legend()"
   ]
  },
  {
   "cell_type": "markdown",
   "metadata": {},
   "source": [
    "## Generator samples from training\n",
    "\n",
    "Here we can view samples of images from the generator. First we'll look at the images we saved during training."
   ]
  },
  {
   "cell_type": "code",
   "execution_count": 72,
   "metadata": {},
   "outputs": [],
   "source": [
    "# helper function for viewing a list of passed in sample images\n",
    "def view_samples(epoch, samples):\n",
    "    fig, axes = plt.subplots(figsize=(7,7), nrows=4, ncols=4, sharey=True, sharex=True)\n",
    "    for ax, img in zip(axes.flatten(), samples[epoch]):\n",
    "        img = img.detach()\n",
    "        ax.xaxis.set_visible(False)\n",
    "        ax.yaxis.set_visible(False)\n",
    "        im = ax.imshow(img.reshape((28,28)), cmap='Greys_r')"
   ]
  },
  {
   "cell_type": "code",
   "execution_count": 73,
   "metadata": {},
   "outputs": [],
   "source": [
    "# Load samples from generator, taken while training\n",
    "with open('train_samples.pkl', 'rb') as f:\n",
    "    samples = pkl.load(f)"
   ]
  },
  {
   "cell_type": "markdown",
   "metadata": {},
   "source": [
    "These are samples from the final training epoch. You can see the generator is able to reproduce numbers like 1, 7, 3, 2. Since this is just a sample, it isn't representative of the full range of images this generator can make."
   ]
  },
  {
   "cell_type": "code",
   "execution_count": 74,
   "metadata": {},
   "outputs": [
    {
     "data": {
      "image/png": "[encoded data removed]",
      "text/plain": [
       "<Figure size 504x504 with 16 Axes>"
      ]
     },
     "metadata": {
      "needs_background": "light"
     },
     "output_type": "display_data"
    }
   ],
   "source": [
    "# -1 indicates final epoch's samples (the last in the list)\n",
    "view_samples(-1, samples)"
   ]
  },
  {
   "cell_type": "markdown",
   "metadata": {},
   "source": [
    "Below I'm showing the generated images as the network was training, every 10 epochs."
   ]
  },
  {
   "cell_type": "code",
   "execution_count": 75,
   "metadata": {},
   "outputs": [
    {
     "data": {
      "image/png": "[encoded data removed]",
      "text/plain": [
       "<Figure size 504x864 with 60 Axes>"
      ]
     },
     "metadata": {
      "needs_background": "light"
     },
     "output_type": "display_data"
    }
   ],
   "source": [
    "rows = 10 # split epochs into 10, so 100/10 = every 10 epochs\n",
    "cols = 6\n",
    "fig, axes = plt.subplots(figsize=(7,12), nrows=rows, ncols=cols, sharex=True, sharey=True)\n",
    "\n",
    "for sample, ax_row in zip(samples[::int(len(samples)/rows)], axes):\n",
    "    for img, ax in zip(sample[::int(len(sample)/cols)], ax_row):\n",
    "        img = img.detach()\n",
    "        ax.imshow(img.reshape((28,28)), cmap='Greys_r')\n",
    "        ax.xaxis.set_visible(False)\n",
    "        ax.yaxis.set_visible(False)"
   ]
  },
  {
   "cell_type": "markdown",
   "metadata": {},
   "source": [
    "It starts out as all noise. Then it learns to make only the center white and the rest black. You can start to see some number like structures appear out of the noise like 1s and 9s."
   ]
  },
  {
   "cell_type": "markdown",
   "metadata": {},
   "source": [
    "## Sampling from the generator\n",
    "\n",
    "We can also get completely new images from the generator by using the checkpoint we saved after training. **We just need to pass in a new latent vector $z$ and we'll get new samples**!"
   ]
  },
  {
   "cell_type": "code",
   "execution_count": 76,
   "metadata": {},
   "outputs": [
    {
     "name": "stderr",
     "output_type": "stream",
     "text": [
      "C:\\Users\\Prath\\Anaconda3\\lib\\site-packages\\torch\\nn\\functional.py:1320: UserWarning: nn.functional.tanh is deprecated. Use torch.tanh instead.\n",
      "  warnings.warn(\"nn.functional.tanh is deprecated. Use torch.tanh instead.\")\n"
     ]
    },
    {
     "data": {
      "image/png": "[encoded data removed]",
      "text/plain": [
       "<Figure size 504x504 with 16 Axes>"
      ]
     },
     "metadata": {
      "needs_background": "light"
     },
     "output_type": "display_data"
    }
   ],
   "source": [
    "# randomly generated, new latent vectors\n",
    "sample_size=16\n",
    "rand_z = np.random.uniform(-1, 1, size=(sample_size, z_size))\n",
    "rand_z = torch.from_numpy(rand_z).float()\n",
    "\n",
    "G.eval() # eval mode\n",
    "# generated samples\n",
    "rand_images = G(rand_z)\n",
    "\n",
    "# 0 indicates the first set of samples in the passed in list\n",
    "# and we only have one batch of samples, here\n",
    "view_samples(0, [rand_images])"
   ]
  },
  {
   "cell_type": "code",
   "execution_count": null,
   "metadata": {},
   "outputs": [],
   "source": []
  }
 ],
 "metadata": {
  "kernelspec": {
   "display_name": "Python 3",
   "language": "python",
   "name": "python3"
  },
  "language_info": {
   "codemirror_mode": {
    "name": "ipython",
    "version": 3
   },
   "file_extension": ".py",
   "mimetype": "text/x-python",
   "name": "python",
   "nbconvert_exporter": "python",
   "pygments_lexer": "ipython3",
   "version": "3.7.0"
  }
 },
 "nbformat": 4,
 "nbformat_minor": 2
}
